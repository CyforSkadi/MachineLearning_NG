{
 "cells": [
  {
   "cell_type": "markdown",
   "id": "9df3ee61",
   "metadata": {},
   "source": [
    "# 推荐系统\n",
    "## 案例：给用户推荐电影\n",
    "### 数据集：ex8_movies.mat ex8_movieParams.mat"
   ]
  },
  {
   "cell_type": "code",
   "execution_count": 1,
   "id": "8e46d1ce",
   "metadata": {},
   "outputs": [],
   "source": [
    "import numpy as np \n",
    "import matplotlib.pyplot as plt\n",
    "import scipy.io as sio"
   ]
  },
  {
   "cell_type": "code",
   "execution_count": 2,
   "id": "313cfa01",
   "metadata": {},
   "outputs": [
    {
     "data": {
      "text/plain": [
       "dict_keys(['__header__', '__version__', '__globals__', 'Y', 'R'])"
      ]
     },
     "execution_count": 2,
     "metadata": {},
     "output_type": "execute_result"
    }
   ],
   "source": [
    "mat = sio.loadmat('ex8_movies.mat')\n",
    "mat.keys()"
   ]
  },
  {
   "cell_type": "code",
   "execution_count": 3,
   "id": "c0980374",
   "metadata": {},
   "outputs": [
    {
     "data": {
      "text/plain": [
       "((1682, 943), (1682, 943))"
      ]
     },
     "execution_count": 3,
     "metadata": {},
     "output_type": "execute_result"
    }
   ],
   "source": [
    "Y,R = mat['Y'],mat['R']\n",
    "Y.shape,R.shape"
   ]
  },
  {
   "cell_type": "code",
   "execution_count": 4,
   "id": "acd90609",
   "metadata": {},
   "outputs": [
    {
     "data": {
      "text/plain": [
       "dict_keys(['__header__', '__version__', '__globals__', 'X', 'Theta', 'num_users', 'num_movies', 'num_features'])"
      ]
     },
     "execution_count": 4,
     "metadata": {},
     "output_type": "execute_result"
    }
   ],
   "source": [
    "pmat = sio.loadmat('ex8_movieParams.mat')\n",
    "pmat.keys()"
   ]
  },
  {
   "cell_type": "code",
   "execution_count": 5,
   "id": "727a3531",
   "metadata": {},
   "outputs": [
    {
     "data": {
      "text/plain": [
       "((1682, 10),\n",
       " (943, 10),\n",
       " array([[943]], dtype=uint16),\n",
       " array([[1682]], dtype=uint16),\n",
       " array([[10]], dtype=uint8))"
      ]
     },
     "execution_count": 5,
     "metadata": {},
     "output_type": "execute_result"
    }
   ],
   "source": [
    "X,Theta,nu,nm,nf = pmat['X'],pmat['Theta'],pmat['num_users'],pmat['num_movies'],pmat['num_features']\n",
    "X.shape,Theta.shape,nu,nm,nf"
   ]
  },
  {
   "cell_type": "code",
   "execution_count": 6,
   "id": "f0bf4749",
   "metadata": {},
   "outputs": [
    {
     "data": {
      "text/plain": [
       "(943, 1682, 10)"
      ]
     },
     "execution_count": 6,
     "metadata": {},
     "output_type": "execute_result"
    }
   ],
   "source": [
    "nu = int(nu)\n",
    "nm = int(nm)\n",
    "nf = int(nf)\n",
    "nu,nm,nf"
   ]
  },
  {
   "cell_type": "markdown",
   "id": "e32f9f60",
   "metadata": {},
   "source": [
    "### 1.序列化参数"
   ]
  },
  {
   "cell_type": "code",
   "execution_count": 7,
   "id": "66ec092a",
   "metadata": {},
   "outputs": [],
   "source": [
    "def serialize(X,Theta):\n",
    "    return np.append(X.flatten(),Theta.flatten())"
   ]
  },
  {
   "cell_type": "markdown",
   "id": "d90f2bac",
   "metadata": {},
   "source": [
    "### 2.解序列化参数"
   ]
  },
  {
   "cell_type": "code",
   "execution_count": 8,
   "id": "101fbb62",
   "metadata": {},
   "outputs": [],
   "source": [
    "def deserialize(params,nu,nm,nf):\n",
    "    X = params[:nm*nf].reshape(nm,nf)\n",
    "    Theta = params[nm*nf:].reshape(nu,nf)\n",
    "    return X,Theta"
   ]
  },
  {
   "cell_type": "markdown",
   "id": "926cd47a",
   "metadata": {},
   "source": [
    "### 3.代价函数"
   ]
  },
  {
   "cell_type": "code",
   "execution_count": 9,
   "id": "8a74d295",
   "metadata": {},
   "outputs": [],
   "source": [
    "def costFunction(params,Y,R,nm,nu,nf,lamda):\n",
    "    X,Theta = deserialize(params,nu,nm,nf)\n",
    "    error = 0.5 * np.square((X @ Theta.T - Y) * R).sum()\n",
    "    reg1 = 0.5 * lamda * np.square(X).sum()\n",
    "    reg2 = 0.5 * lamda * np.square(Theta).sum()\n",
    "    \n",
    "    return error+reg1+reg2"
   ]
  },
  {
   "cell_type": "markdown",
   "id": "342048bf",
   "metadata": {},
   "source": [
    "### 4.梯度"
   ]
  },
  {
   "cell_type": "code",
   "execution_count": 10,
   "id": "4ac14e5a",
   "metadata": {},
   "outputs": [],
   "source": [
    "def costGradient(params,Y,R,nm,nu,nf,lamda):\n",
    "    X,Theta = deserialize(params,nu,nm,nf)\n",
    "    X_grad = ((X @ Theta.T - Y) * R) @ Theta + lamda * X\n",
    "    Theta_grad = ((X @ Theta.T - Y) * R).T @ X + lamda * Theta\n",
    "    return serialize(X_grad,Theta_grad)"
   ]
  },
  {
   "cell_type": "markdown",
   "id": "9bfb8bc4",
   "metadata": {},
   "source": [
    "### 5.添加一个新用户"
   ]
  },
  {
   "cell_type": "code",
   "execution_count": 11,
   "id": "a9c849ef",
   "metadata": {},
   "outputs": [],
   "source": [
    "my_ratings = np.zeros((nm,1))\n",
    "my_ratings[9] = 5\n",
    "my_ratings[66] = 5\n",
    "my_ratings[96] = 5\n",
    "my_ratings[121] = 4\n",
    "my_ratings[148] = 4\n",
    "my_ratings[285] = 3\n",
    "my_ratings[490] = 4\n",
    "my_ratings[599] = 4\n",
    "my_ratings[643] = 4\n",
    "my_ratings[958] = 5\n",
    "my_ratings[1117] = 3"
   ]
  },
  {
   "cell_type": "code",
   "execution_count": 12,
   "id": "b4a5f1ee",
   "metadata": {},
   "outputs": [],
   "source": [
    "Y = np.c_[Y,my_ratings]\n",
    "R = np.c_[R,my_ratings != 0]"
   ]
  },
  {
   "cell_type": "code",
   "execution_count": 13,
   "id": "f2d11e3d",
   "metadata": {},
   "outputs": [
    {
     "data": {
      "text/plain": [
       "(1682, 944)"
      ]
     },
     "execution_count": 13,
     "metadata": {},
     "output_type": "execute_result"
    }
   ],
   "source": [
    "Y.shape"
   ]
  },
  {
   "cell_type": "code",
   "execution_count": 14,
   "id": "c128fb61",
   "metadata": {},
   "outputs": [],
   "source": [
    "nm,nu = Y.shape"
   ]
  },
  {
   "cell_type": "markdown",
   "id": "3af1df95",
   "metadata": {},
   "source": [
    "### 6.均值归一化"
   ]
  },
  {
   "cell_type": "code",
   "execution_count": 15,
   "id": "b8dad1d1",
   "metadata": {},
   "outputs": [],
   "source": [
    "def normalizeRatings(Y,R):\n",
    "    Y_mean = (Y.sum(axis=1) / R.sum(axis=1)).reshape(-1,1)\n",
    "    Y_norm = (Y - Y_mean) * R\n",
    "    return Y_norm,Y_mean"
   ]
  },
  {
   "cell_type": "code",
   "execution_count": 16,
   "id": "f151402c",
   "metadata": {},
   "outputs": [],
   "source": [
    "Y_norm,Y_mean = normalizeRatings(Y,R)"
   ]
  },
  {
   "cell_type": "markdown",
   "id": "e66eadc1",
   "metadata": {},
   "source": [
    "### 7.参数初始化"
   ]
  },
  {
   "cell_type": "code",
   "execution_count": 17,
   "id": "d63c7e68",
   "metadata": {},
   "outputs": [],
   "source": [
    "X = np.random.random((nm,nf))\n",
    "Theta = np.random.random((nu,nf))\n",
    "params = serialize(X,Theta)\n",
    "lamda = 5"
   ]
  },
  {
   "cell_type": "markdown",
   "id": "f06f0827",
   "metadata": {},
   "source": [
    "### 8.模型训练"
   ]
  },
  {
   "cell_type": "code",
   "execution_count": 18,
   "id": "38bb2423",
   "metadata": {},
   "outputs": [],
   "source": [
    "from scipy.optimize import minimize\n",
    "res = minimize(fun=costFunction,\n",
    "               x0 = params,\n",
    "               args = (Y_norm,R,nm,nu,nf,lamda),\n",
    "               method = 'TNC',\n",
    "               jac = costGradient,\n",
    "               options = {'maxiter':100})"
   ]
  },
  {
   "cell_type": "code",
   "execution_count": 19,
   "id": "12caf1eb",
   "metadata": {},
   "outputs": [],
   "source": [
    "params_fit = res.x"
   ]
  },
  {
   "cell_type": "code",
   "execution_count": 22,
   "id": "0f369e90",
   "metadata": {},
   "outputs": [],
   "source": [
    "fit_X,fit_Theta = deserialize(params_fit,nu,nm,nf)"
   ]
  },
  {
   "cell_type": "markdown",
   "id": "56b3f4cc",
   "metadata": {},
   "source": [
    "### 9.预测"
   ]
  },
  {
   "cell_type": "code",
   "execution_count": 23,
   "id": "d884f7f4",
   "metadata": {},
   "outputs": [
    {
     "data": {
      "text/plain": [
       "(1682, 944)"
      ]
     },
     "execution_count": 23,
     "metadata": {},
     "output_type": "execute_result"
    }
   ],
   "source": [
    "Y_pred = fit_X @ fit_Theta.T\n",
    "Y_pred.shape"
   ]
  },
  {
   "cell_type": "code",
   "execution_count": 24,
   "id": "b2a3186a",
   "metadata": {},
   "outputs": [],
   "source": [
    "y_pred = Y_pred[:,-1] + Y_mean.flatten()"
   ]
  },
  {
   "cell_type": "code",
   "execution_count": 25,
   "id": "fb6e81aa",
   "metadata": {},
   "outputs": [
    {
     "data": {
      "text/plain": [
       "array([1466, 1652, 1598, 1499, 1535,  813, 1200, 1121, 1188, 1292],\n",
       "      dtype=int64)"
      ]
     },
     "execution_count": 25,
     "metadata": {},
     "output_type": "execute_result"
    }
   ],
   "source": [
    "index = np.argsort(-y_pred)\n",
    "index[:10]"
   ]
  },
  {
   "cell_type": "code",
   "execution_count": 27,
   "id": "28b43b3b",
   "metadata": {},
   "outputs": [],
   "source": [
    "movies = []\n",
    "with open('movie_ids.txt','r',encoding='latin1') as f:\n",
    "    for line in f:\n",
    "        tokens = line.strip().split(' ')\n",
    "        movies.append(''.join(tokens[1:]))"
   ]
  },
  {
   "cell_type": "code",
   "execution_count": 28,
   "id": "dc7fa8c9",
   "metadata": {},
   "outputs": [
    {
     "data": {
      "text/plain": [
       "1682"
      ]
     },
     "execution_count": 28,
     "metadata": {},
     "output_type": "execute_result"
    }
   ],
   "source": [
    "len(movies)"
   ]
  },
  {
   "cell_type": "code",
   "execution_count": 29,
   "id": "619519b6",
   "metadata": {},
   "outputs": [
    {
     "name": "stdout",
     "output_type": "stream",
     "text": [
      "1466 SaintofFortWashington,The(1993) 5.0471633565295955\n",
      "1652 EntertainingAngels:TheDorothyDayStory(1996) 5.03925961594295\n",
      "1598 SomeoneElse'sAmerica(1995) 5.036708264024702\n",
      "1499 SantawithMuscles(1996) 5.029392894144675\n",
      "1535 Aiqingwansui(1994) 5.024259333506892\n",
      "813 GreatDayinHarlem,A(1994) 5.023898868028925\n",
      "1200 MarleneDietrich:ShadowandLight(1996) 5.016495085105815\n",
      "1121 TheyMadeMeaCriminal(1939) 5.016141947312591\n",
      "1188 Prefontaine(1997) 5.005998500784098\n",
      "1292 StarKid(1997) 4.990412235173138\n"
     ]
    }
   ],
   "source": [
    "for i in range(10):\n",
    "    print(index[i],movies[index[i]],y_pred[index[i]])"
   ]
  }
 ],
 "metadata": {
  "kernelspec": {
   "display_name": "Python 3 (ipykernel)",
   "language": "python",
   "name": "python3"
  },
  "language_info": {
   "codemirror_mode": {
    "name": "ipython",
    "version": 3
   },
   "file_extension": ".py",
   "mimetype": "text/x-python",
   "name": "python",
   "nbconvert_exporter": "python",
   "pygments_lexer": "ipython3",
   "version": "3.9.7"
  }
 },
 "nbformat": 4,
 "nbformat_minor": 5
}
