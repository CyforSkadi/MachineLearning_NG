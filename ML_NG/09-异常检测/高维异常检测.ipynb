{
 "cells": [
  {
   "cell_type": "markdown",
   "id": "58c8c785",
   "metadata": {},
   "source": [
    "# 2-高维异常检测\n",
    "## 案例：高维数据的异常检测\n",
    "### 数据集：ex8data2.mat"
   ]
  },
  {
   "cell_type": "code",
   "execution_count": 1,
   "id": "309f40ad",
   "metadata": {},
   "outputs": [],
   "source": [
    "import numpy as np\n",
    "import scipy.io as sio\n",
    "import matplotlib.pyplot as plt"
   ]
  },
  {
   "cell_type": "code",
   "execution_count": 3,
   "id": "89292143",
   "metadata": {},
   "outputs": [
    {
     "data": {
      "text/plain": [
       "((1000, 11), (100, 11), (100, 1))"
      ]
     },
     "execution_count": 3,
     "metadata": {},
     "output_type": "execute_result"
    }
   ],
   "source": [
    "mat = sio.loadmat('ex8data2.mat')\n",
    "X,Xval,yval = mat['X'],mat['Xval'],mat['yval']\n",
    "X.shape,Xval.shape,yval.shape"
   ]
  },
  {
   "cell_type": "code",
   "execution_count": 4,
   "id": "8c06f806",
   "metadata": {},
   "outputs": [],
   "source": [
    "def estimateGaussian(X,isCovariance):\n",
    "    \"\"\"高斯分布参数估计\"\"\"\n",
    "    means = np.mean(X,axis=0)\n",
    "    \n",
    "    if isCovariance:\n",
    "        # 求协方差\n",
    "        sigma2 = (X - means).T @ (X - means) / len(X)\n",
    "    else:\n",
    "        # 求方差\n",
    "        sigma2 = np.var(X,axis=0)\n",
    "        \n",
    "    return means,sigma2"
   ]
  },
  {
   "cell_type": "code",
   "execution_count": 5,
   "id": "a8f31367",
   "metadata": {},
   "outputs": [],
   "source": [
    "def gaussian(X,means,sigma2):\n",
    "    \n",
    "    if np.ndim(sigma2) == 1:\n",
    "        sigma2 = np.diag(sigma2)\n",
    "        \n",
    "    X = X - means\n",
    "    n = X.shape[1]\n",
    "    \n",
    "    p = np.power(2*np.pi,-n/2) * (np.linalg.det(sigma2)**(-0.5)) * np.exp(-0.5*np.diag(X@np.linalg.inv(sigma2)@X.T))\n",
    "    p = p.reshape(-1,1)\n",
    "    \n",
    "    return p "
   ]
  },
  {
   "cell_type": "code",
   "execution_count": 7,
   "id": "a52c1f62",
   "metadata": {},
   "outputs": [],
   "source": [
    "def plotGaussian(X,means,sigma2):\n",
    "    x = np.arange(0,30,0.5)\n",
    "    y = np.arange(0,30,0.5)\n",
    "    xx,yy = np.meshgrid(x,y)\n",
    "    z = gaussian(np.c_[xx.ravel(),yy.ravel()],means,sigma2)\n",
    "    zz = z.reshape(xx.shape)\n",
    "    plt.plot(X[:,0],X[:,1],'bx')\n",
    "    contour_levels = [10**h for h in range(-20,0,3)]\n",
    "    plt.contour(xx,yy,zz,contour_levels)"
   ]
  },
  {
   "cell_type": "code",
   "execution_count": 12,
   "id": "503f7480",
   "metadata": {},
   "outputs": [],
   "source": [
    "means,sigma2 = estimateGaussian(X,isCovariance=True)\n",
    "pval = gaussian(Xval,means,sigma2)"
   ]
  },
  {
   "cell_type": "code",
   "execution_count": 13,
   "id": "04fefe06",
   "metadata": {},
   "outputs": [],
   "source": [
    "def selectThreshold(yval,p):\n",
    "    bestEpsilon = 0\n",
    "    bestF1 = 0\n",
    "    epsilons = np.linspace(min(p),max(p),1000)\n",
    "    \n",
    "    for e in epsilons:\n",
    "        p_ = p < e\n",
    "        tp = np.sum((yval==1)&(p_==1))\n",
    "        fp = np.sum((yval==0)&(p_==1))\n",
    "        fn = np.sum((yval==1)&(p_==0))\n",
    "        \n",
    "        prec = tp / (tp+fp) if (tp+fp) else 0\n",
    "        rec = tp / (tp+fn) if (tp+fn) else 0\n",
    "        F1_e = 2 * prec * rec / (prec + rec) if (prec + rec) else 0 \n",
    "        \n",
    "        if F1_e > bestF1:\n",
    "            bestF1 = F1_e\n",
    "            bestEpsilon = e\n",
    "            \n",
    "    return bestEpsilon,bestF1"
   ]
  },
  {
   "cell_type": "code",
   "execution_count": 14,
   "id": "2fedf722",
   "metadata": {},
   "outputs": [
    {
     "data": {
      "text/plain": [
       "122"
      ]
     },
     "execution_count": 14,
     "metadata": {},
     "output_type": "execute_result"
    }
   ],
   "source": [
    "bestEpsilon,bestF1 = selectThreshold(yval,pval)\n",
    "p = gaussian(X,means,sigma2)\n",
    "anoms = [X[i] for i in range(len(X)) if p[i] < bestEpsilon]\n",
    "len(anoms)"
   ]
  }
 ],
 "metadata": {
  "kernelspec": {
   "display_name": "Python 3 (ipykernel)",
   "language": "python",
   "name": "python3"
  },
  "language_info": {
   "codemirror_mode": {
    "name": "ipython",
    "version": 3
   },
   "file_extension": ".py",
   "mimetype": "text/x-python",
   "name": "python",
   "nbconvert_exporter": "python",
   "pygments_lexer": "ipython3",
   "version": "3.9.7"
  }
 },
 "nbformat": 4,
 "nbformat_minor": 5
}
