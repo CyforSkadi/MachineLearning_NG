{
 "cells": [
  {
   "cell_type": "markdown",
   "id": "6820d581",
   "metadata": {},
   "source": [
    "## 案例：判断一封邮件是否为垃圾邮件"
   ]
  },
  {
   "cell_type": "code",
   "execution_count": 1,
   "id": "68be46c3",
   "metadata": {},
   "outputs": [],
   "source": [
    "import scipy.io as sio\n",
    "from sklearn.svm import SVC"
   ]
  },
  {
   "cell_type": "code",
   "execution_count": 2,
   "id": "a5a3980b",
   "metadata": {},
   "outputs": [
    {
     "data": {
      "text/plain": [
       "((4000, 1899), (4000, 1))"
      ]
     },
     "execution_count": 2,
     "metadata": {},
     "output_type": "execute_result"
    }
   ],
   "source": [
    "data_train = sio.loadmat('spamTrain.mat')\n",
    "X,y = data_train['X'],data_train['y']\n",
    "\n",
    "data_test = sio.loadmat('spamTest.mat')\n",
    "Xtest,ytest = data_test['Xtest'],data_test['ytest']\n",
    "\n",
    "X.shape,y.shape"
   ]
  },
  {
   "cell_type": "code",
   "execution_count": 3,
   "id": "ffaf17c3",
   "metadata": {},
   "outputs": [
    {
     "name": "stdout",
     "output_type": "stream",
     "text": [
      "0.99 0.03\n"
     ]
    }
   ],
   "source": [
    "Cvalues = [0.01,0.03,0.1,0.3,1,3,10,30,100] #9\n",
    "\n",
    "best_score = 0\n",
    "best_params = 0\n",
    "# 求出最优参数C\n",
    "for c in Cvalues:\n",
    "    svc = SVC(C=c,kernel='linear')\n",
    "    svc.fit(X,y.flatten())\n",
    "    score = svc.score(Xtest,ytest.flatten())\n",
    "        \n",
    "    if score > best_score:\n",
    "        best_score = score\n",
    "        best_params = c\n",
    "            \n",
    "print(best_score,best_params)"
   ]
  },
  {
   "cell_type": "code",
   "execution_count": 6,
   "id": "c282958b",
   "metadata": {},
   "outputs": [
    {
     "name": "stdout",
     "output_type": "stream",
     "text": [
      "0.99425 0.99\n"
     ]
    }
   ],
   "source": [
    "svc = SVC(C=0.03,kernel='linear')\n",
    "svc.fit(X,y.flatten())\n",
    "score_train = svc.score(X,y.flatten())\n",
    "score_test = svc.score(Xtest,ytest.flatten())\n",
    "print(score_train,score_test) #求出模型在训练集和测试集上的准确率"
   ]
  }
 ],
 "metadata": {
  "kernelspec": {
   "display_name": "Python 3 (ipykernel)",
   "language": "python",
   "name": "python3"
  },
  "language_info": {
   "codemirror_mode": {
    "name": "ipython",
    "version": 3
   },
   "file_extension": ".py",
   "mimetype": "text/x-python",
   "name": "python",
   "nbconvert_exporter": "python",
   "pygments_lexer": "ipython3",
   "version": "3.9.7"
  }
 },
 "nbformat": 4,
 "nbformat_minor": 5
}
