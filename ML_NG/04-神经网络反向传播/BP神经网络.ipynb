{
 "cells": [
  {
   "cell_type": "markdown",
   "id": "5e1d9996",
   "metadata": {},
   "source": [
    "# 神经网络解决多分类问题\n",
    "## 案例：手写数字识别\n",
    "### 数据集：ex4data1.mat  初始参数：ex4weights.mat"
   ]
  },
  {
   "cell_type": "code",
   "execution_count": 1,
   "id": "0472d53b",
   "metadata": {},
   "outputs": [],
   "source": [
    "import numpy as np\n",
    "import scipy.io as sio\n",
    "import matplotlib.pyplot as plt\n",
    "from scipy.optimize import minimize"
   ]
  },
  {
   "cell_type": "code",
   "execution_count": 2,
   "id": "020de9a8",
   "metadata": {},
   "outputs": [],
   "source": [
    "data = sio.loadmat('ex4data1.mat')\n",
    "raw_X = data['X']\n",
    "raw_y = data['y']"
   ]
  },
  {
   "cell_type": "code",
   "execution_count": 3,
   "id": "704fc54a",
   "metadata": {},
   "outputs": [
    {
     "data": {
      "text/plain": [
       "(5000, 401)"
      ]
     },
     "execution_count": 3,
     "metadata": {},
     "output_type": "execute_result"
    }
   ],
   "source": [
    "X = np.insert(raw_X,0,values=1,axis=1)\n",
    "X.shape"
   ]
  },
  {
   "cell_type": "markdown",
   "id": "ee12f93a",
   "metadata": {},
   "source": [
    "### 对输出y进行one-hot编码"
   ]
  },
  {
   "cell_type": "code",
   "execution_count": 4,
   "id": "2fc661a5",
   "metadata": {},
   "outputs": [],
   "source": [
    "def one_hot_encoder(raw_y):\n",
    "    \"\"\"独热编码函数\"\"\"\n",
    "    result = []\n",
    "    \n",
    "    for i in raw_y: #1 - 10\n",
    "        y_temp = np.zeros(10)\n",
    "        y_temp[i-1] = 1\n",
    "        \n",
    "        result.append(y_temp)\n",
    "    \n",
    "    return np.array(result) #转换为数组格式"
   ]
  },
  {
   "cell_type": "code",
   "execution_count": 5,
   "id": "ffd20f81",
   "metadata": {},
   "outputs": [
    {
     "name": "stdout",
     "output_type": "stream",
     "text": [
      "[[0. 0. 0. ... 0. 0. 1.]\n",
      " [0. 0. 0. ... 0. 0. 1.]\n",
      " [0. 0. 0. ... 0. 0. 1.]\n",
      " ...\n",
      " [0. 0. 0. ... 0. 1. 0.]\n",
      " [0. 0. 0. ... 0. 1. 0.]\n",
      " [0. 0. 0. ... 0. 1. 0.]]\n"
     ]
    }
   ],
   "source": [
    "y = one_hot_encoder(raw_y)\n",
    "print(y)"
   ]
  },
  {
   "cell_type": "code",
   "execution_count": 6,
   "id": "e3062096",
   "metadata": {},
   "outputs": [
    {
     "data": {
      "text/plain": [
       "(5000, 10)"
      ]
     },
     "execution_count": 6,
     "metadata": {},
     "output_type": "execute_result"
    }
   ],
   "source": [
    "y.shape"
   ]
  },
  {
   "cell_type": "code",
   "execution_count": 7,
   "id": "4ccce302",
   "metadata": {},
   "outputs": [
    {
     "data": {
      "text/plain": [
       "((25, 401), (10, 26))"
      ]
     },
     "execution_count": 7,
     "metadata": {},
     "output_type": "execute_result"
    }
   ],
   "source": [
    "theta = sio.loadmat('ex4weights.mat')\n",
    "theta1,theta2 = theta['Theta1'],theta['Theta2']\n",
    "theta1.shape,theta2.shape"
   ]
  },
  {
   "cell_type": "markdown",
   "id": "039a6c46",
   "metadata": {},
   "source": [
    "### 序列化权重参数"
   ]
  },
  {
   "cell_type": "code",
   "execution_count": 8,
   "id": "826cc5a2",
   "metadata": {},
   "outputs": [],
   "source": [
    "def serialize(a,b):\n",
    "    \"\"\"序列化数组\"\"\"\n",
    "    return np.append(a.flatten(),b.flatten())"
   ]
  },
  {
   "cell_type": "code",
   "execution_count": 9,
   "id": "9f93310f",
   "metadata": {},
   "outputs": [
    {
     "data": {
      "text/plain": [
       "(10285,)"
      ]
     },
     "execution_count": 9,
     "metadata": {},
     "output_type": "execute_result"
    }
   ],
   "source": [
    "theta_serialize = serialize(theta1,theta2)\n",
    "theta_serialize.shape"
   ]
  },
  {
   "cell_type": "code",
   "execution_count": 10,
   "id": "536c3336",
   "metadata": {},
   "outputs": [],
   "source": [
    "def deserialize(theta_serialize):\n",
    "    \"\"\"解序列化函数\"\"\"\n",
    "    theta1 = theta_serialize[:25*401].reshape(25,401)\n",
    "    theta2 = theta_serialize[25*401:].reshape(10,26)\n",
    "    \n",
    "    return theta1,theta2"
   ]
  },
  {
   "cell_type": "code",
   "execution_count": 11,
   "id": "fa61baa4",
   "metadata": {},
   "outputs": [
    {
     "data": {
      "text/plain": [
       "((25, 401), (10, 26))"
      ]
     },
     "execution_count": 11,
     "metadata": {},
     "output_type": "execute_result"
    }
   ],
   "source": [
    "theta1,theta2 = deserialize(theta_serialize)\n",
    "theta1.shape,theta2.shape"
   ]
  },
  {
   "cell_type": "markdown",
   "id": "9c334c5a",
   "metadata": {},
   "source": [
    "### 前向传播"
   ]
  },
  {
   "cell_type": "code",
   "execution_count": 12,
   "id": "dc7569f3",
   "metadata": {},
   "outputs": [],
   "source": [
    "def sigmoid(z):\n",
    "    return 1 / (1 + np.exp(-z))"
   ]
  },
  {
   "cell_type": "code",
   "execution_count": 13,
   "id": "676ed464",
   "metadata": {},
   "outputs": [],
   "source": [
    "def feed_forward(theta_serialize,X):\n",
    "    \"\"\"前向传播函数\"\"\"\n",
    "    theta1,theta2 = deserialize(theta_serialize)\n",
    "    a1 = X\n",
    "    z2 = a1 @ theta1.T\n",
    "    a2 = sigmoid(z2)\n",
    "    a2 = np.insert(a2,0,values=1,axis=1)\n",
    "    z3 = a2 @ theta2.T\n",
    "    h = sigmoid(z3)\n",
    "    \n",
    "    return a1,z2,a2,z3,h"
   ]
  },
  {
   "cell_type": "markdown",
   "id": "4a9acc65",
   "metadata": {},
   "source": [
    "### 不带正则化的损失函数"
   ]
  },
  {
   "cell_type": "code",
   "execution_count": 14,
   "id": "1620a4ac",
   "metadata": {},
   "outputs": [],
   "source": [
    "def cost(theta_serialize,X,y):\n",
    "    a1,z2,a2,z3,h = feed_forward(theta_serialize,X)\n",
    "    J = -np.sum(y * np.log(h) + (1 - y) * np.log(1 - h)) / len(X)\n",
    "    return J"
   ]
  },
  {
   "cell_type": "code",
   "execution_count": 15,
   "id": "ab750a4e",
   "metadata": {},
   "outputs": [
    {
     "data": {
      "text/plain": [
       "0.2876291651613189"
      ]
     },
     "execution_count": 15,
     "metadata": {},
     "output_type": "execute_result"
    }
   ],
   "source": [
    "cost(theta_serialize,X,y)"
   ]
  },
  {
   "cell_type": "markdown",
   "id": "87de25ca",
   "metadata": {},
   "source": [
    "### 带正则化的损失函数"
   ]
  },
  {
   "cell_type": "code",
   "execution_count": 16,
   "id": "b5d45768",
   "metadata": {},
   "outputs": [],
   "source": [
    "def reg_cost(theta_serialize,X,y,lamda):\n",
    "    sum1 = np.sum(np.power(theta1[:,1:],2))\n",
    "    sum2 = np.sum(np.power(theta2[:,1:],2))\n",
    "    reg = (sum1 + sum2) * lamda / (2 * len(X))\n",
    "    return cost(theta_serialize,X,y) + reg"
   ]
  },
  {
   "cell_type": "code",
   "execution_count": 17,
   "id": "fdc8df3d",
   "metadata": {},
   "outputs": [
    {
     "data": {
      "text/plain": [
       "0.38376985909092365"
      ]
     },
     "execution_count": 17,
     "metadata": {},
     "output_type": "execute_result"
    }
   ],
   "source": [
    "lamda = 1\n",
    "reg_cost(theta_serialize,X,y,lamda)"
   ]
  },
  {
   "cell_type": "markdown",
   "id": "2b1cf793",
   "metadata": {},
   "source": [
    "### 反向传播\n",
    "### 无正则化的梯度"
   ]
  },
  {
   "cell_type": "code",
   "execution_count": 18,
   "id": "638305e8",
   "metadata": {},
   "outputs": [],
   "source": [
    "def sigmoid_gradient(z):\n",
    "    return sigmoid(z) * (1 - sigmoid(z))"
   ]
  },
  {
   "cell_type": "code",
   "execution_count": 19,
   "id": "cf218c73",
   "metadata": {},
   "outputs": [],
   "source": [
    "def gradient(theta_serialize,X,y):\n",
    "    theta1,theta2 = deserialize(theta_serialize)\n",
    "    a1,z2,a2,z3,h = feed_forward(theta_serialize,X)\n",
    "    d3 = h - y \n",
    "    d2 = d3 @ theta2[:,1:] * sigmoid_gradient(z2)\n",
    "    D2 = (d3.T @ a2) / len(X)\n",
    "    D1 = (d2.T @ a1) / len(X)\n",
    "    \n",
    "    return serialize(D1,D2)"
   ]
  },
  {
   "cell_type": "markdown",
   "id": "e5e7b552",
   "metadata": {},
   "source": [
    "### 带正则化的梯度"
   ]
  },
  {
   "cell_type": "code",
   "execution_count": 20,
   "id": "d97c2899",
   "metadata": {},
   "outputs": [],
   "source": [
    "def reg_gradient(theta_serialize,X,y,lamda):\n",
    "    D = gradient(theta_serialize,X,y)\n",
    "    D1,D2 = deserialize(D)\n",
    "    \n",
    "    theta1,theta2 = deserialize(theta_serialize)\n",
    "    D1[:,1:] = D1[:,1:] + lamda * theta1[:,1:] / len(X)\n",
    "    D2[:,1:] = D2[:,1:] + lamda * theta2[:,1:] / len(X)\n",
    "    \n",
    "    return serialize(D1,D2)"
   ]
  },
  {
   "cell_type": "markdown",
   "id": "b871e4f8",
   "metadata": {},
   "source": [
    "### 神经网络训练"
   ]
  },
  {
   "cell_type": "code",
   "execution_count": 21,
   "id": "c90ab038",
   "metadata": {},
   "outputs": [],
   "source": [
    "def nn_training(X,y):\n",
    "    \n",
    "    init_theta = np.random.uniform(-0.5,0.5,10285)\n",
    "    res = minimize(fun=reg_cost,\n",
    "                  x0=init_theta,\n",
    "                  args=(X,y,lamda),\n",
    "                  method='TNC',\n",
    "                  jac=reg_gradient,\n",
    "                  options={'maxiter':300}) #最大迭代次数为300\n",
    "    \n",
    "    return res"
   ]
  },
  {
   "cell_type": "code",
   "execution_count": 22,
   "id": "2836ec62",
   "metadata": {},
   "outputs": [],
   "source": [
    "lamda = 10\n",
    "res = nn_training(X,y)\n",
    "raw_y = data['y'].reshape(5000,)"
   ]
  },
  {
   "cell_type": "code",
   "execution_count": 23,
   "id": "a2ff8725",
   "metadata": {},
   "outputs": [
    {
     "name": "stdout",
     "output_type": "stream",
     "text": [
      "0.939\n"
     ]
    }
   ],
   "source": [
    "_,_,_,_,h = feed_forward(res.x,X)\n",
    "y_pre = np.argmax(h,axis=1)+1\n",
    "acc = np.mean(y_pre==raw_y)\n",
    "print(acc)"
   ]
  },
  {
   "cell_type": "markdown",
   "id": "8ebc1356",
   "metadata": {},
   "source": [
    "### 可视化隐藏层"
   ]
  },
  {
   "cell_type": "code",
   "execution_count": 24,
   "id": "1e526246",
   "metadata": {},
   "outputs": [],
   "source": [
    "def plot_hidden_layer(theta):\n",
    "    theta1,_ = deserialize(theta)\n",
    "    hidden_layer = theta1[:,1:] #25×400\n",
    "    \n",
    "    fig,ax = plt.subplots(ncols=5,nrows=5,figsize=(8,8),sharex=True,sharey=True)\n",
    "    \n",
    "    for r in range(5):\n",
    "        for c in range(5):\n",
    "            \n",
    "            ax[r,c].imshow(hidden_layer[5*r+c].reshape(20,20).T,cmap='gray_r')\n",
    "            \n",
    "    \n",
    "    plt.xticks([])\n",
    "    plt.yticks([])\n",
    "    plt.show"
   ]
  },
  {
   "cell_type": "code",
   "execution_count": 25,
   "id": "8a300428",
   "metadata": {},
   "outputs": [
    {
     "data": {
      "image/png": "[encoded data removed]",
      "text/plain": [
       "<Figure size 576x576 with 25 Axes>"
      ]
     },
     "metadata": {},
     "output_type": "display_data"
    }
   ],
   "source": [
    "plot_hidden_layer(res.x)"
   ]
  },
  {
   "cell_type": "code",
   "execution_count": null,
   "id": "3c15a8ca",
   "metadata": {},
   "outputs": [],
   "source": []
  }
 ],
 "metadata": {
  "kernelspec": {
   "display_name": "Python 3 (ipykernel)",
   "language": "python",
   "name": "python3"
  },
  "language_info": {
   "codemirror_mode": {
    "name": "ipython",
    "version": 3
   },
   "file_extension": ".py",
   "mimetype": "text/x-python",
   "name": "python",
   "nbconvert_exporter": "python",
   "pygments_lexer": "ipython3",
   "version": "3.9.7"
  }
 },
 "nbformat": 4,
 "nbformat_minor": 5
}
