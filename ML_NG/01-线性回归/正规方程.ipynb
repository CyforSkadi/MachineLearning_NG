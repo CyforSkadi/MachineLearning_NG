{
 "cells": [
  {
   "cell_type": "markdown",
   "id": "e61498fa",
   "metadata": {},
   "source": [
    "# 3-正规方程\n",
    "## 利用正规方程法对单变量回归中的案例进行计算和比较"
   ]
  },
  {
   "cell_type": "code",
   "execution_count": 1,
   "id": "eb3e8aef",
   "metadata": {},
   "outputs": [],
   "source": [
    "import numpy as np\n",
    "import pandas as pd\n",
    "import matplotlib.pyplot as plt\n",
    "\n",
    "data = pd.read_csv('ex1data1.txt', names = ['population', 'profit'])\n",
    "data.insert(0,'ones',1) #插入‘1’列\n",
    "X = data.iloc[:,0:-1] #X数据切片\n",
    "y = data.iloc[:,-1] #y数据切片\n",
    "X = X.values #将dataframe数据类型转换为数组类型\n",
    "y = y.values\n",
    "y = y.reshape(97,1)"
   ]
  },
  {
   "cell_type": "code",
   "execution_count": 2,
   "id": "dbc7c22b",
   "metadata": {},
   "outputs": [],
   "source": [
    "def normalEquation(X,y):\n",
    "    \"\"\"正规方程函数\"\"\"\n",
    "    theta = np.linalg.inv(X.T@X)@X.T@y\n",
    "    return theta"
   ]
  },
  {
   "cell_type": "code",
   "execution_count": 3,
   "id": "09bb156c",
   "metadata": {},
   "outputs": [],
   "source": [
    "theta = normalEquation(X,y)"
   ]
  },
  {
   "cell_type": "code",
   "execution_count": 6,
   "id": "ff77bf90",
   "metadata": {},
   "outputs": [
    {
     "name": "stdout",
     "output_type": "stream",
     "text": [
      "[[-3.89578088]\n",
      " [ 1.19303364]]\n"
     ]
    }
   ],
   "source": [
    "print(theta)"
   ]
  }
 ],
 "metadata": {
  "kernelspec": {
   "display_name": "Python 3 (ipykernel)",
   "language": "python",
   "name": "python3"
  },
  "language_info": {
   "codemirror_mode": {
    "name": "ipython",
    "version": 3
   },
   "file_extension": ".py",
   "mimetype": "text/x-python",
   "name": "python",
   "nbconvert_exporter": "python",
   "pygments_lexer": "ipython3",
   "version": "3.9.7"
  }
 },
 "nbformat": 4,
 "nbformat_minor": 5
}
