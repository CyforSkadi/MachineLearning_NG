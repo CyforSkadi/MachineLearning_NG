{
 "cells": [
  {
   "cell_type": "markdown",
   "id": "b01e1e5c",
   "metadata": {},
   "source": [
    "# 2-神经网络解决多分类问题\n",
    "## 案例：手写数字识别\n",
    "### 数据集：ex3data1.mat 参数：ex3weights.mat"
   ]
  },
  {
   "cell_type": "code",
   "execution_count": 1,
   "id": "8341b3d9",
   "metadata": {},
   "outputs": [],
   "source": [
    "import numpy as np\n",
    "import scipy.io as sio"
   ]
  },
  {
   "cell_type": "code",
   "execution_count": 3,
   "id": "10d9a1d6",
   "metadata": {},
   "outputs": [],
   "source": [
    "data = sio.loadmat('ex3data1.mat')\n",
    "raw_X = data['X']\n",
    "raw_y = data['y']"
   ]
  },
  {
   "cell_type": "code",
   "execution_count": 4,
   "id": "8188efc8",
   "metadata": {},
   "outputs": [
    {
     "data": {
      "text/plain": [
       "(5000, 401)"
      ]
     },
     "execution_count": 4,
     "metadata": {},
     "output_type": "execute_result"
    }
   ],
   "source": [
    "X = np.insert(raw_X,0,values=1,axis=1) #插入输入层偏置\n",
    "X.shape"
   ]
  },
  {
   "cell_type": "code",
   "execution_count": 5,
   "id": "3926875a",
   "metadata": {},
   "outputs": [
    {
     "data": {
      "text/plain": [
       "(5000,)"
      ]
     },
     "execution_count": 5,
     "metadata": {},
     "output_type": "execute_result"
    }
   ],
   "source": [
    "y = raw_y.flatten()\n",
    "y.shape"
   ]
  },
  {
   "cell_type": "code",
   "execution_count": 7,
   "id": "6fc57a42",
   "metadata": {},
   "outputs": [
    {
     "data": {
      "text/plain": [
       "dict_keys(['__header__', '__version__', '__globals__', 'Theta1', 'Theta2'])"
      ]
     },
     "execution_count": 7,
     "metadata": {},
     "output_type": "execute_result"
    }
   ],
   "source": [
    "theta = sio.loadmat('ex3weights.mat')\n",
    "theta.keys()"
   ]
  },
  {
   "cell_type": "code",
   "execution_count": 9,
   "id": "ffd5df81",
   "metadata": {},
   "outputs": [
    {
     "data": {
      "text/plain": [
       "((25, 401), (10, 26))"
      ]
     },
     "execution_count": 9,
     "metadata": {},
     "output_type": "execute_result"
    }
   ],
   "source": [
    "theta1 = theta['Theta1']\n",
    "theta2 = theta['Theta2']\n",
    "theta1.shape,theta2.shape"
   ]
  },
  {
   "cell_type": "code",
   "execution_count": 10,
   "id": "1bd81fdc",
   "metadata": {},
   "outputs": [],
   "source": [
    "def sigmoid(z):\n",
    "    return 1 / (1 + np.exp(-z))"
   ]
  },
  {
   "cell_type": "code",
   "execution_count": 11,
   "id": "2f84b8a3",
   "metadata": {},
   "outputs": [],
   "source": [
    "a1 = X"
   ]
  },
  {
   "cell_type": "code",
   "execution_count": 12,
   "id": "470f1c49",
   "metadata": {},
   "outputs": [
    {
     "data": {
      "text/plain": [
       "(5000, 25)"
      ]
     },
     "execution_count": 12,
     "metadata": {},
     "output_type": "execute_result"
    }
   ],
   "source": [
    "z2 = X @ theta1.T\n",
    "a2 = sigmoid(z2) #输入层到隐藏层\n",
    "a2.shape"
   ]
  },
  {
   "cell_type": "code",
   "execution_count": 13,
   "id": "31bbe554",
   "metadata": {},
   "outputs": [
    {
     "data": {
      "text/plain": [
       "(5000, 26)"
      ]
     },
     "execution_count": 13,
     "metadata": {},
     "output_type": "execute_result"
    }
   ],
   "source": [
    "a2 = np.insert(a2,0,values=1,axis=1) #插入隐藏层偏置\n",
    "a2.shape"
   ]
  },
  {
   "cell_type": "code",
   "execution_count": 16,
   "id": "ac4dbca1",
   "metadata": {},
   "outputs": [
    {
     "data": {
      "text/plain": [
       "(5000, 10)"
      ]
     },
     "execution_count": 16,
     "metadata": {},
     "output_type": "execute_result"
    }
   ],
   "source": [
    "z3 = a2 @ theta2.T\n",
    "a3 = sigmoid(z3)\n",
    "a3.shape"
   ]
  },
  {
   "cell_type": "code",
   "execution_count": 17,
   "id": "bfdb34ca",
   "metadata": {},
   "outputs": [],
   "source": [
    "y_pred = np.argmax(a3,axis=1) + 1\n",
    "acc = np.mean(y_pred == y)"
   ]
  },
  {
   "cell_type": "code",
   "execution_count": 18,
   "id": "f2c5a91a",
   "metadata": {},
   "outputs": [
    {
     "data": {
      "text/plain": [
       "0.9752"
      ]
     },
     "execution_count": 18,
     "metadata": {},
     "output_type": "execute_result"
    }
   ],
   "source": [
    "acc"
   ]
  }
 ],
 "metadata": {
  "kernelspec": {
   "display_name": "Python 3 (ipykernel)",
   "language": "python",
   "name": "python3"
  },
  "language_info": {
   "codemirror_mode": {
    "name": "ipython",
    "version": 3
   },
   "file_extension": ".py",
   "mimetype": "text/x-python",
   "name": "python",
   "nbconvert_exporter": "python",
   "pygments_lexer": "ipython3",
   "version": "3.9.7"
  }
 },
 "nbformat": 4,
 "nbformat_minor": 5
}
