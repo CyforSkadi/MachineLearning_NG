{
 "cells": [
  {
   "cell_type": "markdown",
   "id": "be493222",
   "metadata": {},
   "source": [
    "# 算法性能中偏差和方差的概念\n",
    "## 案例：利用水库水位变化预测大坝出水量\n",
    "### 数据集：ex5data.mat"
   ]
  },
  {
   "cell_type": "code",
   "execution_count": 1,
   "id": "655cf10e",
   "metadata": {},
   "outputs": [],
   "source": [
    "import numpy as np\n",
    "import matplotlib.pyplot as plt\n",
    "from scipy.io import loadmat\n",
    "from scipy.optimize import minimize"
   ]
  },
  {
   "cell_type": "code",
   "execution_count": 2,
   "id": "9976a099",
   "metadata": {},
   "outputs": [
    {
     "data": {
      "text/plain": [
       "dict_keys(['__header__', '__version__', '__globals__', 'X', 'y', 'Xtest', 'ytest', 'Xval', 'yval'])"
      ]
     },
     "execution_count": 2,
     "metadata": {},
     "output_type": "execute_result"
    }
   ],
   "source": [
    "data = loadmat('ex5data1.mat')\n",
    "data.keys()"
   ]
  },
  {
   "cell_type": "code",
   "execution_count": 3,
   "id": "6cd7a3cd",
   "metadata": {},
   "outputs": [
    {
     "data": {
      "text/plain": [
       "((12, 1), (12, 1))"
      ]
     },
     "execution_count": 3,
     "metadata": {},
     "output_type": "execute_result"
    }
   ],
   "source": [
    "# 训练集\n",
    "X_train,y_train = data['X'],data['y']\n",
    "X_train.shape,y_train.shape"
   ]
  },
  {
   "cell_type": "code",
   "execution_count": 4,
   "id": "e8e33646",
   "metadata": {},
   "outputs": [
    {
     "data": {
      "text/plain": [
       "((21, 1), (21, 1))"
      ]
     },
     "execution_count": 4,
     "metadata": {},
     "output_type": "execute_result"
    }
   ],
   "source": [
    "# 验证集\n",
    "X_val,y_val = data['Xval'],data['yval']\n",
    "X_val.shape,y_val.shape"
   ]
  },
  {
   "cell_type": "code",
   "execution_count": 5,
   "id": "83044805",
   "metadata": {},
   "outputs": [
    {
     "data": {
      "text/plain": [
       "((21, 1), (21, 1))"
      ]
     },
     "execution_count": 5,
     "metadata": {},
     "output_type": "execute_result"
    }
   ],
   "source": [
    "# 测试集\n",
    "X_test,y_test = data['Xtest'],data['ytest']\n",
    "X_test.shape,y_test.shape"
   ]
  },
  {
   "cell_type": "code",
   "execution_count": 6,
   "id": "06375054",
   "metadata": {},
   "outputs": [],
   "source": [
    "X_train = np.insert(X_train,0,1,axis=1)\n",
    "X_val = np.insert(X_val,0,1,axis=1)\n",
    "X_test = np.insert(X_test,0,1,axis=1)"
   ]
  },
  {
   "cell_type": "code",
   "execution_count": 7,
   "id": "bf777e8b",
   "metadata": {},
   "outputs": [],
   "source": [
    "def plot_data():\n",
    "    fig,ax = plt.subplots()\n",
    "    ax.scatter(X_train[:,1],y_train)\n",
    "    ax.set(xlabel='change in water level(x)',\n",
    "          ylabel='water flowing out on the dam(y)')"
   ]
  },
  {
   "cell_type": "code",
   "execution_count": 8,
   "id": "7f110253",
   "metadata": {},
   "outputs": [
    {
     "data": {
      "image/png": "[encoded data removed]",
      "text/plain": [
       "<Figure size 432x288 with 1 Axes>"
      ]
     },
     "metadata": {
      "needs_background": "light"
     },
     "output_type": "display_data"
    }
   ],
   "source": [
    "plot_data()"
   ]
  },
  {
   "cell_type": "code",
   "execution_count": 9,
   "id": "f402387d",
   "metadata": {},
   "outputs": [],
   "source": [
    "def reg_cost(theta,X,y,lamda):\n",
    "    \n",
    "    cost = np.sum(np.power((X @ theta - y.flatten()),2))\n",
    "    reg = theta[1:] @ theta[1:] * lamda\n",
    "    \n",
    "    return (cost + reg) / (2 * len(X))"
   ]
  },
  {
   "cell_type": "code",
   "execution_count": 10,
   "id": "38b95e25",
   "metadata": {},
   "outputs": [],
   "source": [
    "def reg_gradient(theta,X,y,lamda):\n",
    "    \n",
    "    grad = (X @ theta - y.flatten()) @ X\n",
    "    reg = lamda * theta\n",
    "    reg[0] = 0\n",
    "    \n",
    "    return (grad + reg) / len(X)"
   ]
  },
  {
   "cell_type": "code",
   "execution_count": 11,
   "id": "94f47041",
   "metadata": {},
   "outputs": [],
   "source": [
    "def train_model(X,y,lamda):\n",
    "    \n",
    "    theta = np.ones(X.shape[1])\n",
    "    res = minimize(fun=reg_cost,\n",
    "                  x0=theta,\n",
    "                  args=(X,y,lamda),\n",
    "                  method='TNC',\n",
    "                  jac=reg_gradient)\n",
    "    \n",
    "    return res.x"
   ]
  },
  {
   "cell_type": "code",
   "execution_count": 12,
   "id": "b2a73deb",
   "metadata": {},
   "outputs": [],
   "source": [
    "theta_final = train_model(X_train,y_train,lamda=0)"
   ]
  },
  {
   "cell_type": "code",
   "execution_count": 14,
   "id": "2246541b",
   "metadata": {},
   "outputs": [
    {
     "data": {
      "image/png": "[encoded data removed]",
      "text/plain": [
       "<Figure size 432x288 with 1 Axes>"
      ]
     },
     "metadata": {
      "needs_background": "light"
     },
     "output_type": "display_data"
    }
   ],
   "source": [
    "plot_data()\n",
    "plt.plot(X_train[:,1],X_train @ theta_final,c='r')\n",
    "plt.show()"
   ]
  },
  {
   "cell_type": "markdown",
   "id": "b160a7fc",
   "metadata": {},
   "source": [
    "### 让训练样本从1开始递增进行训练，比较训练集和验证集上损失函数的变化情况（学习曲线）"
   ]
  },
  {
   "cell_type": "code",
   "execution_count": 15,
   "id": "921a552e",
   "metadata": {},
   "outputs": [],
   "source": [
    "def plot_learning_curve(X_train,y_train,X_val,y_val,lamda):\n",
    "    \n",
    "    x = range(1,len(X_train)+1)\n",
    "    training_cost = []\n",
    "    cv_cost = []\n",
    "    \n",
    "    for i in x:\n",
    "        \n",
    "        res = train_model(X_train[:i,:],y_train[:i,:],lamda)\n",
    "        training_cost_i = reg_cost(res,X_train[:i,:],y_train[:i,:],lamda)\n",
    "        cv_cost_i = reg_cost(res,X_val,y_val,lamda)\n",
    "        training_cost.append(training_cost_i)\n",
    "        cv_cost.append(cv_cost_i)\n",
    "        \n",
    "    plt.plot(x,training_cost,label='training cost')\n",
    "    plt.plot(x,cv_cost,label='cv cost')\n",
    "    plt.legend()\n",
    "    plt.xlabel('numbers of training examples')\n",
    "    plt.ylabel('error')\n",
    "    plt.show()"
   ]
  },
  {
   "cell_type": "code",
   "execution_count": 16,
   "id": "39818c20",
   "metadata": {},
   "outputs": [
    {
     "data": {
      "image/png": "[encoded data removed]",
      "text/plain": [
       "<Figure size 432x288 with 1 Axes>"
      ]
     },
     "metadata": {
      "needs_background": "light"
     },
     "output_type": "display_data"
    }
   ],
   "source": [
    "plot_learning_curve(X_train,y_train,X_val,y_val,lamda=0)"
   ]
  },
  {
   "cell_type": "markdown",
   "id": "3fbc5480",
   "metadata": {},
   "source": [
    "### 模型表现为高偏差（欠拟合）"
   ]
  },
  {
   "cell_type": "code",
   "execution_count": 31,
   "id": "19ac79d5",
   "metadata": {},
   "outputs": [],
   "source": [
    "def poly_feature(X,power):\n",
    "    \"\"\"构造多项式特征\"\"\"\n",
    "    for i in range(2,power+1):\n",
    "        X = np.insert(X,X.shape[1],np.power(X[:,1],i),axis=1)\n",
    "    \n",
    "    return X\n",
    "        "
   ]
  },
  {
   "cell_type": "code",
   "execution_count": 32,
   "id": "5f2fc33b",
   "metadata": {},
   "outputs": [],
   "source": [
    "def get_means_stds(X):\n",
    "    \"\"\"获取均值和方差\"\"\"\n",
    "    means = np.mean(X,axis=0)\n",
    "    stds = np.std(X,axis=0)\n",
    "    \n",
    "    return means,stds"
   ]
  },
  {
   "cell_type": "code",
   "execution_count": 33,
   "id": "773d8c5f",
   "metadata": {},
   "outputs": [],
   "source": [
    "def feature_normalize(X,means,stds):\n",
    "    \"\"\"归一化特征\"\"\"\n",
    "    X[:,1:] = (X[:,1:] - means[1:]) / stds[1:]\n",
    "    \n",
    "    return X"
   ]
  },
  {
   "cell_type": "code",
   "execution_count": 34,
   "id": "2fe76d73",
   "metadata": {},
   "outputs": [],
   "source": [
    "power = 6"
   ]
  },
  {
   "cell_type": "code",
   "execution_count": 35,
   "id": "2eaa0775",
   "metadata": {},
   "outputs": [],
   "source": [
    "X_train_poly = poly_feature(X_train,power)\n",
    "X_val_poly = poly_feature(X_val,power)\n",
    "X_test_poly = poly_feature(X_test,power)"
   ]
  },
  {
   "cell_type": "code",
   "execution_count": 36,
   "id": "7c5c5605",
   "metadata": {},
   "outputs": [],
   "source": [
    "train_means,train_stds = get_means_stds(X_train_poly)"
   ]
  },
  {
   "cell_type": "code",
   "execution_count": 37,
   "id": "4f497b44",
   "metadata": {},
   "outputs": [],
   "source": [
    "X_train_norm = feature_normalize(X_train_poly,train_means,train_stds)\n",
    "# 验证集和测试集归一化也是采用训练集的均值和方差进行\n",
    "X_val_norm = feature_normalize(X_val_poly,train_means,train_stds)\n",
    "X_test_norm = feature_normalize(X_test_poly,train_means,train_stds)"
   ]
  },
  {
   "cell_type": "code",
   "execution_count": 38,
   "id": "81bc89ee",
   "metadata": {},
   "outputs": [],
   "source": [
    "theta_fit = train_model(X_train_norm,y_train,lamda=0)"
   ]
  },
  {
   "cell_type": "code",
   "execution_count": 39,
   "id": "114bd53a",
   "metadata": {},
   "outputs": [],
   "source": [
    "def plot_poly_fit():\n",
    "    plot_data()\n",
    "    \n",
    "    x = np.linspace(-60,60,100)\n",
    "    xx = x.reshape(100,1)\n",
    "    xx = np.insert(xx,0,1,axis=1)\n",
    "    xx = poly_feature(xx,power)\n",
    "    xx = feature_normalize(xx,train_means,train_stds)\n",
    "    \n",
    "    plt.plot(x,xx @ theta_fit,'r--')"
   ]
  },
  {
   "cell_type": "code",
   "execution_count": 40,
   "id": "1974a9bc",
   "metadata": {},
   "outputs": [
    {
     "data": {
      "image/png": "[encoded data removed]",
      "text/plain": [
       "<Figure size 432x288 with 1 Axes>"
      ]
     },
     "metadata": {
      "needs_background": "light"
     },
     "output_type": "display_data"
    }
   ],
   "source": [
    "plot_poly_fit()"
   ]
  },
  {
   "cell_type": "code",
   "execution_count": 41,
   "id": "ddf6afaf",
   "metadata": {},
   "outputs": [
    {
     "data": {
      "image/png": "[encoded data removed]",
      "text/plain": [
       "<Figure size 432x288 with 1 Axes>"
      ]
     },
     "metadata": {
      "needs_background": "light"
     },
     "output_type": "display_data"
    }
   ],
   "source": [
    "plot_learning_curve(X_train_norm,y_train,X_val_norm,y_val,lamda=0)"
   ]
  },
  {
   "cell_type": "markdown",
   "id": "1eb26c1c",
   "metadata": {},
   "source": [
    "### 模型表现为高方差（过拟合）"
   ]
  },
  {
   "cell_type": "markdown",
   "id": "95c7e7c7",
   "metadata": {},
   "source": [
    "### 加入正则化"
   ]
  },
  {
   "cell_type": "code",
   "execution_count": 42,
   "id": "b66eebfa",
   "metadata": {},
   "outputs": [
    {
     "data": {
      "image/png": "[encoded data removed]",
      "text/plain": [
       "<Figure size 432x288 with 1 Axes>"
      ]
     },
     "metadata": {
      "needs_background": "light"
     },
     "output_type": "display_data"
    }
   ],
   "source": [
    "plot_learning_curve(X_train_norm,y_train,X_val_norm,y_val,lamda=1)"
   ]
  },
  {
   "cell_type": "markdown",
   "id": "91c2b46f",
   "metadata": {},
   "source": [
    "### 此时模型表现较好"
   ]
  }
 ],
 "metadata": {
  "kernelspec": {
   "display_name": "Python 3 (ipykernel)",
   "language": "python",
   "name": "python3"
  },
  "language_info": {
   "codemirror_mode": {
    "name": "ipython",
    "version": 3
   },
   "file_extension": ".py",
   "mimetype": "text/x-python",
   "name": "python",
   "nbconvert_exporter": "python",
   "pygments_lexer": "ipython3",
   "version": "3.9.7"
  }
 },
 "nbformat": 4,
 "nbformat_minor": 5
}
